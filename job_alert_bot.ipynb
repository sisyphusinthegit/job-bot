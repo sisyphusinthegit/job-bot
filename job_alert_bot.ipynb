{
  "cells": [
    {
      "cell_type": "code",
      "source": [
        "import json\n",
        "import requests"
      ],
      "metadata": {
        "colab": {
          "base_uri": "https://localhost:8080/"
        },
        "id": "kT_TA5ml9AT8",
        "outputId": "58779ea1-7893-4d5f-d135-466c863bae32"
      },
      "execution_count": 1,
      "outputs": [
        {
          "output_type": "stream",
          "name": "stdout",
          "text": [
            "--2025-07-10 13:36:20--  https://raw.githubusercontent.com/sisyphusinthegit/job-bot/main/config.json\n",
            "Resolving raw.githubusercontent.com (raw.githubusercontent.com)... 185.199.108.133, 185.199.109.133, 185.199.110.133, ...\n",
            "Connecting to raw.githubusercontent.com (raw.githubusercontent.com)|185.199.108.133|:443... connected.\n",
            "HTTP request sent, awaiting response... 200 OK\n",
            "Length: 671 [text/plain]\n",
            "Saving to: ‘config.json’\n",
            "\n",
            "\rconfig.json           0%[                    ]       0  --.-KB/s               \rconfig.json         100%[===================>]     671  --.-KB/s    in 0s      \n",
            "\n",
            "2025-07-10 13:36:20 (36.5 MB/s) - ‘config.json’ saved [671/671]\n",
            "\n",
            "7616042675:AAGf10TxZoIBLTUoBu4SecHl-aMuVFU5JiI\n"
          ]
        }
      ]
    },
    {
      "cell_type": "code",
      "source": [
        "!wget https://raw.githubusercontent.com/sisyphusinthegit/job-bot/main/config.json"
      ],
      "metadata": {
        "id": "dbmdizIMkOP2"
      },
      "execution_count": null,
      "outputs": []
    },
    {
      "cell_type": "code",
      "source": [
        "import smtplib\n",
        "from email.mime.text import MIMEText\n",
        "from email.mime.multipart import MIMEMultipart\n",
        "\n",
        "def load_config(path=\"config.json\"):\n",
        "    with open(path, \"r\") as f:\n",
        "        return json.load(f)\n",
        "\n",
        "def send_email(subject, body):\n",
        "    config = load_config()\n",
        "    email_conf = config[\"email\"]\n",
        "\n",
        "    msg = MIMEMultipart()\n",
        "    msg[\"From\"] = email_conf[\"sender_email\"]\n",
        "    msg[\"To\"] = email_conf[\"receiver_email\"]\n",
        "    msg[\"Subject\"] = subject\n",
        "    msg.attach(MIMEText(body, \"plain\"))\n",
        "\n",
        "    with smtplib.SMTP(email_conf[\"smtp_server\"], email_conf[\"smtp_port\"]) as server:\n",
        "        server.starttls()\n",
        "        server.login(email_conf[\"sender_email\"], email_conf[\"sender_password\"])\n",
        "        server.send_message(msg)\n",
        "\n",
        "    print(\"Email is sent successfully.\")"
      ],
      "metadata": {
        "id": "Zli6UuMICyQY"
      },
      "execution_count": 2,
      "outputs": []
    },
    {
      "cell_type": "code",
      "source": [
        "send_email(\"Job Alert Test\", \"Ceci n'est pas un bot.\")"
      ],
      "metadata": {
        "id": "t7soMI0Vy_c-",
        "outputId": "a02b0632-433c-4ba1-8fe9-c446a6e3d1c0",
        "colab": {
          "base_uri": "https://localhost:8080/"
        }
      },
      "execution_count": 3,
      "outputs": [
        {
          "output_type": "stream",
          "name": "stdout",
          "text": [
            "Email is sent successfully.\n"
          ]
        }
      ]
    },
    {
      "cell_type": "code",
      "source": [
        "def send_telegram(message):\n",
        "  config = load_config()\n",
        "  token = config[\"telegram\"][\"bot_token\"]\n",
        "  chat_id = config[\"telegram\"][\"chat_id\"]\n",
        "\n",
        "  url = f\"https://api.telegram.org/bot{token}/sendMessage\"\n",
        "  payload = {\n",
        "      \"chat_id\" : chat_id,\n",
        "      \"text\": message\n",
        "  }\n",
        "\n",
        "  response = requests.post(url, data= payload)\n",
        "\n",
        "  if response.status_code == 200:\n",
        "    print(\"Message is sent successfully.\")\n",
        "  else:\n",
        "    print(f\"Error: {response.status_code} - {response.text}\")\n"
      ],
      "metadata": {
        "id": "PjKunFOyz8PO"
      },
      "execution_count": 4,
      "outputs": []
    },
    {
      "cell_type": "code",
      "source": [
        "send_telegram(\"Ceci n'est pas un bot.\")"
      ],
      "metadata": {
        "id": "ps2jEKj1z7JI",
        "outputId": "cc53f9bd-b2a0-467d-c9a1-332c1bbf6d10",
        "colab": {
          "base_uri": "https://localhost:8080/"
        }
      },
      "execution_count": 5,
      "outputs": [
        {
          "output_type": "stream",
          "name": "stdout",
          "text": [
            "Message is sent successfully.\n"
          ]
        }
      ]
    },
    {
      "cell_type": "code",
      "source": [
        "def notification(subject, message):\n",
        "  try:\n",
        "    send_email(subject, message)\n",
        "  except Exception as excep:\n",
        "    print(f\"Email Error: {excep}\")\n",
        "\n",
        "  try:\n",
        "    send_telegram(message)\n",
        "  except Exception as excep:\n",
        "    print(f\"Telegram Error: {excep}\")"
      ],
      "metadata": {
        "id": "o8VYBEiO3QeD"
      },
      "execution_count": 6,
      "outputs": []
    },
    {
      "cell_type": "code",
      "source": [
        "notification(\"New job post\", \"New job arrived\")"
      ],
      "metadata": {
        "id": "izbOqQ8r3xPq",
        "outputId": "ff3ca4bf-dc2b-4109-928b-af7b7b9ff454",
        "colab": {
          "base_uri": "https://localhost:8080/"
        }
      },
      "execution_count": 7,
      "outputs": [
        {
          "output_type": "stream",
          "name": "stdout",
          "text": [
            "Email is sent successfully.\n",
            "Message is sent successfully.\n"
          ]
        }
      ]
    },
    {
      "cell_type": "code",
      "source": [
        "def remote_jobs():\n",
        "    url = \"https://remoteok.com/api\"\n",
        "    headers = {\"User-Agent\": \"Mozilla/5.0\"}\n",
        "\n",
        "    response = requests.get(url, headers=headers)\n",
        "\n",
        "    if response.status_code == 200:\n",
        "        jobs = response.json()\n",
        "        return jobs[1:]\n",
        "    else:\n",
        "        print(f\"Hata: {response.status_code}\")\n",
        "        return []"
      ],
      "metadata": {
        "id": "cLuyTVLekH1J"
      },
      "execution_count": 9,
      "outputs": []
    },
    {
      "cell_type": "code",
      "source": [
        "jobs = remote_jobs()\n",
        "for job in jobs[:5]:\n",
        "    print(job[\"position\"], \"-\", job.get(\"company\", \"\"))"
      ],
      "metadata": {
        "colab": {
          "base_uri": "https://localhost:8080/"
        },
        "id": "NauYyJOukkCv",
        "outputId": "2162e363-585f-4d36-acb1-9e414d3f9cde"
      },
      "execution_count": 10,
      "outputs": [
        {
          "output_type": "stream",
          "name": "stdout",
          "text": [
            "Customer Onboarding & Support Specialist - Gymflow\n",
            "Senior TS React Developer - Prezly\n",
            "AI Driven Engineer Ruby - CloudWalk\n",
            "Senior Security Engineer - Immutable\n",
            "Software Engineer - Loancrate\n"
          ]
        }
      ]
    },
    {
      "cell_type": "code",
      "source": [
        "def relevant_job(job, config):\n",
        "    title = job.get(\"position\", \"\").lower()\n",
        "    description = job.get(\"description\", \"\").lower()\n",
        "\n",
        "    # Anahtar kelime eşleşmesi (pozisyon)\n",
        "    if not any(kw.lower() in title for kw in config[\"search_keywords\"]):\n",
        "        return False\n",
        "\n",
        "    # Visa/relocation kontrolü (açıklama)\n",
        "    if not any(kw.lower() in description for kw in config[\"visa_keywords\"]):\n",
        "        return False\n",
        "\n",
        "    return True"
      ],
      "metadata": {
        "id": "z_SgtM8_uz6t"
      },
      "execution_count": 11,
      "outputs": []
    },
    {
      "cell_type": "code",
      "source": [
        "jobs = remote_jobs()\n",
        "config = load_config()\n",
        "\n",
        "for job in jobs:\n",
        "    if relevant_job(job, config):\n",
        "        message = f\" {job['position']} @ {job.get('company', 'Unknown')}\\n🌍 {job.get('location', 'Remote')}\\n🔗 {job.get('url', '')}\"\n",
        "        notification(\"Yeni İş İlanı!\", message)"
      ],
      "metadata": {
        "id": "QerX_B42w4cU"
      },
      "execution_count": 12,
      "outputs": []
    }
  ],
  "metadata": {
    "colab": {
      "provenance": []
    },
    "language_info": {
      "name": "python"
    },
    "kernelspec": {
      "name": "python3",
      "display_name": "Python 3"
    }
  },
  "nbformat": 4,
  "nbformat_minor": 0
}