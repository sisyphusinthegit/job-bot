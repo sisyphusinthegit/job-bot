{
  "cells": [
    {
      "cell_type": "code",
      "source": [
        "!wget https://raw.githubusercontent.com/sisyphusinthegit/job-bot/main/config.json\n",
        "\n",
        "import json\n",
        "\n",
        "def load_config(path=\"config.json\"):\n",
        "    with open(path, \"r\") as f:\n",
        "        return json.load(f)\n",
        "\n",
        "config = load_config()\n",
        "print(config[\"telegram\"][\"bot_token\"])  # test"
      ],
      "metadata": {
        "colab": {
          "base_uri": "https://localhost:8080/"
        },
        "id": "kT_TA5ml9AT8",
        "outputId": "af9505a4-f136-482a-b3f7-6ed8e56c3253"
      },
      "execution_count": 31,
      "outputs": [
        {
          "output_type": "stream",
          "name": "stdout",
          "text": [
            "--2025-07-05 19:05:51--  https://raw.githubusercontent.com/sisyphusinthegit/job-bot/main/config.json\n",
            "Resolving raw.githubusercontent.com (raw.githubusercontent.com)... 185.199.110.133, 185.199.111.133, 185.199.109.133, ...\n",
            "Connecting to raw.githubusercontent.com (raw.githubusercontent.com)|185.199.110.133|:443... connected.\n",
            "HTTP request sent, awaiting response... 200 OK\n",
            "Length: 671 [text/plain]\n",
            "Saving to: ‘config.json’\n",
            "\n",
            "\rconfig.json           0%[                    ]       0  --.-KB/s               \rconfig.json         100%[===================>]     671  --.-KB/s    in 0s      \n",
            "\n",
            "2025-07-05 19:05:51 (34.5 MB/s) - ‘config.json’ saved [671/671]\n",
            "\n",
            "7616042675:AAGf10TxZoIBLTUoBu4SecHl-aMuVFU5JiI\n"
          ]
        }
      ]
    },
    {
      "cell_type": "code",
      "source": [
        "import smtplib\n",
        "from email.mime.text import MIMEText\n",
        "from email.mime.multipart import MIMEMultipart\n",
        "\n",
        "def load_config(path=\"config.json\"):\n",
        "    with open(path, \"r\") as f:\n",
        "        return json.load(f)\n",
        "\n",
        "def send_email(subject, body):\n",
        "    config = load_config()\n",
        "    email_conf = config[\"email\"]\n",
        "\n",
        "    msg = MIMEMultipart()\n",
        "    msg[\"From\"] = email_conf[\"sender_email\"]\n",
        "    msg[\"To\"] = email_conf[\"receiver_email\"]\n",
        "    msg[\"Subject\"] = subject\n",
        "    msg.attach(MIMEText(body, \"plain\"))\n",
        "\n",
        "    with smtplib.SMTP(email_conf[\"smtp_server\"], email_conf[\"smtp_port\"]) as server:\n",
        "        server.starttls()\n",
        "        server.login(email_conf[\"sender_email\"], email_conf[\"sender_password\"])\n",
        "        server.send_message(msg)\n",
        "\n",
        "    print(\"✅ Mail gönderildi.\")"
      ],
      "metadata": {
        "id": "Zli6UuMICyQY"
      },
      "execution_count": null,
      "outputs": []
    },
    {
      "cell_type": "code",
      "source": [
        "import smtplib\n",
        "from email.mime.text import MIMEText\n",
        "from email.mime.multipart import MIMEMultipart\n",
        "\n",
        "def load_config(path = 'config.json'):\n",
        "  with open(path, 'r') as file:\n",
        "    return json.load(file)\n",
        "\n",
        "def send_email(subject,body):\n",
        "  config = load_config()\n",
        "  email_conf = config[\"email\"]\n",
        "\n",
        "  msg = MIMEMultipart()\n",
        "  msg['From'] = email_conf['sender_email']\n",
        "  msg['To'] = email_conf['receiver_email']\n",
        "  msg['Subject'] = subject\n",
        "  msg.attach(MIMEText(body,'plain'))\n",
        "\n",
        "  with smtplib.SMTP(email_conf['smtp_server'],email_conf['smtp_port']) as server:\n",
        "    server.starttls()\n",
        "    server.login(email_conf['sender_email'],email_conf['sender_password'])\n",
        "    server.send_message(msg)\n",
        "\n",
        "\n",
        "  print(\"Email is sent successfully.\")"
      ],
      "metadata": {
        "id": "L8V4wNsKC4oq"
      },
      "execution_count": 36,
      "outputs": []
    }
  ],
  "metadata": {
    "colab": {
      "provenance": []
    },
    "language_info": {
      "name": "python"
    },
    "kernelspec": {
      "name": "python3",
      "display_name": "Python 3"
    }
  },
  "nbformat": 4,
  "nbformat_minor": 0
}