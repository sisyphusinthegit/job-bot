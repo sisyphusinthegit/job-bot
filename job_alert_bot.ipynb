{
  "cells": [
    {
      "cell_type": "code",
      "source": [
        "import json\n",
        "import requests\n",
        "import smtplib\n",
        "from email.mime.text import MIMEText\n",
        "from email.mime.multipart import MIMEMultipart\n",
        "from datetime import datetime, timedelta, timezone"
      ],
      "metadata": {
        "id": "kT_TA5ml9AT8"
      },
      "execution_count": 2,
      "outputs": []
    },
    {
      "cell_type": "code",
      "source": [
        "!rm config.json  # remove if any\n",
        "!wget https://raw.githubusercontent.com/sisyphusinthegit/job-bot/main/config.json # get the config file"
      ],
      "metadata": {
        "colab": {
          "base_uri": "https://localhost:8080/"
        },
        "id": "dbmdizIMkOP2",
        "outputId": "3607f977-b2db-4800-f825-45703837d0b9"
      },
      "execution_count": 3,
      "outputs": [
        {
          "output_type": "stream",
          "name": "stdout",
          "text": [
            "rm: cannot remove 'config.json': No such file or directory\n",
            "--2025-07-10 18:38:36--  https://raw.githubusercontent.com/sisyphusinthegit/job-bot/main/config.json\n",
            "Resolving raw.githubusercontent.com (raw.githubusercontent.com)... 185.199.108.133, 185.199.109.133, 185.199.110.133, ...\n",
            "Connecting to raw.githubusercontent.com (raw.githubusercontent.com)|185.199.108.133|:443... connected.\n",
            "HTTP request sent, awaiting response... 200 OK\n",
            "Length: 708 [text/plain]\n",
            "Saving to: ‘config.json’\n",
            "\n",
            "config.json         100%[===================>]     708  --.-KB/s    in 0s      \n",
            "\n",
            "2025-07-10 18:38:36 (7.47 MB/s) - ‘config.json’ saved [708/708]\n",
            "\n"
          ]
        }
      ]
    },
    {
      "cell_type": "code",
      "source": [
        "# Create a function that loads the congif\n",
        "\n",
        "def load_config(path=\"config.json\"):\n",
        "    with open(path, \"r\") as f:\n",
        "        return json.load(f)"
      ],
      "metadata": {
        "id": "s_wHZBDOpQfk"
      },
      "execution_count": 16,
      "outputs": []
    },
    {
      "cell_type": "code",
      "source": [
        "#  Create a function that sends the email notification\n",
        "\n",
        "def send_email(subject, body):\n",
        "    config = load_config()\n",
        "    email_conf = config[\"email\"]\n",
        "\n",
        "    msg = MIMEMultipart()\n",
        "    msg[\"From\"] = email_conf[\"sender_email\"]\n",
        "    msg[\"To\"] = email_conf[\"receiver_email\"]\n",
        "    msg[\"Subject\"] = subject\n",
        "    msg.attach(MIMEText(body, \"plain\"))\n",
        "\n",
        "    with smtplib.SMTP(email_conf[\"smtp_server\"], email_conf[\"smtp_port\"]) as server:\n",
        "        server.starttls()\n",
        "        server.login(email_conf[\"sender_email\"], email_conf[\"sender_password\"])\n",
        "        server.send_message(msg)\n",
        "\n",
        "    print(\"Email is sent successfully.\")"
      ],
      "metadata": {
        "id": "Zli6UuMICyQY"
      },
      "execution_count": 17,
      "outputs": []
    },
    {
      "cell_type": "code",
      "source": [
        "#  Create a function that sends the telegram notification\n",
        "\n",
        "def send_telegram(message):\n",
        "  config = load_config()\n",
        "  token = config[\"telegram\"][\"bot_token\"]\n",
        "  chat_id = config[\"telegram\"][\"chat_id\"]\n",
        "\n",
        "  url = f\"https://api.telegram.org/bot{token}/sendMessage\"\n",
        "  payload = {\n",
        "      \"chat_id\" : chat_id,\n",
        "      \"text\": message\n",
        "  }\n",
        "\n",
        "  response = requests.post(url, data= payload)\n",
        "\n",
        "  if response.status_code == 200:\n",
        "    print(\"Message is sent successfully.\")\n",
        "  else:\n",
        "    print(f\"Error: {response.status_code} - {response.text}\")\n"
      ],
      "metadata": {
        "id": "PjKunFOyz8PO"
      },
      "execution_count": 18,
      "outputs": []
    },
    {
      "cell_type": "code",
      "source": [
        "# Combine notification functions together\n",
        "\n",
        "def notification(subject, message):\n",
        "  try:\n",
        "    send_email(subject, message)\n",
        "  except Exception as excep:\n",
        "    print(f\"Email Error: {excep}\")\n",
        "\n",
        "  try:\n",
        "    send_telegram(message)\n",
        "  except Exception as excep:\n",
        "    print(f\"Telegram Error: {excep}\")"
      ],
      "metadata": {
        "id": "o8VYBEiO3QeD"
      },
      "execution_count": 20,
      "outputs": []
    },
    {
      "cell_type": "code",
      "source": [
        "# Create a function that gets the remote jobs\n",
        "\n",
        "def remote_jobs():\n",
        "    url = \"https://remoteok.com/api\"\n",
        "    headers = {\"User-Agent\": \"Mozilla/5.0\"}\n",
        "\n",
        "    response = requests.get(url, headers=headers)\n",
        "\n",
        "    if response.status_code == 200:\n",
        "        jobs = response.json()\n",
        "        return jobs[1:]\n",
        "    else:\n",
        "        print(f\"Error: {response.status_code}\")\n",
        "        return []"
      ],
      "metadata": {
        "id": "cLuyTVLekH1J"
      },
      "execution_count": 21,
      "outputs": []
    },
    {
      "cell_type": "code",
      "source": [
        "def relevant_job(job, config):\n",
        "    title = job.get(\"position\", \"\").lower()\n",
        "    job_date_str = job.get(\"date\", \"\")\n",
        "\n",
        "\n",
        "    if not any(kw.lower() in title for kw in config[\"search_keywords\"]):\n",
        "        return False\n",
        "\n",
        "    try:\n",
        "        job_time = datetime.strptime(job_date_str, \"%Y-%m-%dT%H:%M:%S%z\")\n",
        "        if datetime.now(timezone.utc) - job_time > timedelta(hours=24):\n",
        "            return False\n",
        "    except Exception as e:\n",
        "        print(f\"Error: {e}\")\n",
        "        return False\n",
        "\n",
        "    return True"
      ],
      "metadata": {
        "id": "z_SgtM8_uz6t"
      },
      "execution_count": 22,
      "outputs": []
    },
    {
      "cell_type": "code",
      "source": [
        "jobs = remote_jobs()\n",
        "config = load_config()\n",
        "\n",
        "for job in jobs:\n",
        "    if relevant_job(job, config):\n",
        "        message = f\" {job['position']} @ {job.get('company', 'Unknown')}\\n {job.get('location', 'Remote')}\\n🔗 {job.get('url', '')}\"\n",
        "        notification(\"New Job Post!\", message)"
      ],
      "metadata": {
        "id": "QerX_B42w4cU"
      },
      "execution_count": 23,
      "outputs": []
    }
  ],
  "metadata": {
    "colab": {
      "provenance": []
    },
    "language_info": {
      "name": "python"
    },
    "kernelspec": {
      "name": "python3",
      "display_name": "Python 3"
    }
  },
  "nbformat": 4,
  "nbformat_minor": 0
}