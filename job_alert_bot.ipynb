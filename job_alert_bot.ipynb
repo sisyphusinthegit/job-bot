{
  "cells": [
    {
      "cell_type": "code",
      "source": [
        "!wget https://raw.githubusercontent.com/sisyphusinthegit/job-bot/main/config.json\n",
        "\n",
        "import json\n",
        "\n",
        "def load_config(path=\"config.json\"):\n",
        "    with open(path, \"r\") as f:\n",
        "        return json.load(f)\n",
        "\n",
        "config = load_config()\n",
        "print(config[\"telegram\"][\"bot_token\"])  # test"
      ],
      "metadata": {
        "colab": {
          "base_uri": "https://localhost:8080/"
        },
        "id": "kT_TA5ml9AT8",
        "outputId": "b4cdd3b4-6eb0-42f7-dc06-c25924fedb46"
      },
      "execution_count": 2,
      "outputs": [
        {
          "output_type": "stream",
          "name": "stdout",
          "text": [
            "--2025-07-07 07:42:47--  https://raw.githubusercontent.com/sisyphusinthegit/job-bot/main/config.json\n",
            "Resolving raw.githubusercontent.com (raw.githubusercontent.com)... 185.199.108.133, 185.199.109.133, 185.199.110.133, ...\n",
            "Connecting to raw.githubusercontent.com (raw.githubusercontent.com)|185.199.108.133|:443... connected.\n",
            "HTTP request sent, awaiting response... 200 OK\n",
            "Length: 671 [text/plain]\n",
            "Saving to: ‘config.json.1’\n",
            "\n",
            "\rconfig.json.1         0%[                    ]       0  --.-KB/s               \rconfig.json.1       100%[===================>]     671  --.-KB/s    in 0s      \n",
            "\n",
            "2025-07-07 07:42:47 (49.8 MB/s) - ‘config.json.1’ saved [671/671]\n",
            "\n",
            "7616042675:AAGf10TxZoIBLTUoBu4SecHl-aMuVFU5JiI\n"
          ]
        }
      ]
    },
    {
      "cell_type": "code",
      "source": [
        "import smtplib\n",
        "from email.mime.text import MIMEText\n",
        "from email.mime.multipart import MIMEMultipart\n",
        "\n",
        "def load_config(path=\"config.json\"):\n",
        "    with open(path, \"r\") as f:\n",
        "        return json.load(f)\n",
        "\n",
        "def send_email(subject, body):\n",
        "    config = load_config()\n",
        "    email_conf = config[\"email\"]\n",
        "\n",
        "    msg = MIMEMultipart()\n",
        "    msg[\"From\"] = email_conf[\"sender_email\"]\n",
        "    msg[\"To\"] = email_conf[\"receiver_email\"]\n",
        "    msg[\"Subject\"] = subject\n",
        "    msg.attach(MIMEText(body, \"plain\"))\n",
        "\n",
        "    with smtplib.SMTP(email_conf[\"smtp_server\"], email_conf[\"smtp_port\"]) as server:\n",
        "        server.starttls()\n",
        "        server.login(email_conf[\"sender_email\"], email_conf[\"sender_password\"])\n",
        "        server.send_message(msg)\n",
        "\n",
        "    print(\"Email is sent successfully.\")"
      ],
      "metadata": {
        "id": "Zli6UuMICyQY"
      },
      "execution_count": 3,
      "outputs": []
    },
    {
      "cell_type": "code",
      "source": [
        "send_email(\"Job Alert Test\", \"Ceci n'est pas un bot.\")"
      ],
      "metadata": {
        "id": "t7soMI0Vy_c-",
        "outputId": "f25f64fc-5d33-4fba-d7b7-8cdb4c52585d",
        "colab": {
          "base_uri": "https://localhost:8080/"
        }
      },
      "execution_count": 4,
      "outputs": [
        {
          "output_type": "stream",
          "name": "stdout",
          "text": [
            "Email is sent successfully.\n"
          ]
        }
      ]
    },
    {
      "cell_type": "code",
      "source": [
        "import requests\n",
        "\n",
        "def send_telegram(message):\n",
        "  config = load_config()\n",
        "  token = config[\"telegram\"][\"bot_token\"]\n",
        "  chat_id = config[\"telegram\"][\"chat_id\"]\n",
        "\n",
        "  url = f\"https://api.telegram.org/bot{token}/sendMessage\"\n",
        "  payload = {\n",
        "      \"chat_id\" : chat_id,\n",
        "      \"text\": message\n",
        "  }\n",
        "\n",
        "  response = requests.posts(url, data= payload)\n",
        "\n",
        "  if response.status_code == 200:\n",
        "    print(\"Message is sent successfully.\")\n",
        "  else:\n",
        "    print(f\"Error: {response.status_code} - {response.text}\")\n",
        ""
      ],
      "metadata": {
        "id": "PjKunFOyz8PO"
      },
      "execution_count": 5,
      "outputs": []
    },
    {
      "cell_type": "code",
      "source": [
        "send_telegram(\"Ceci n'est pas un bot.\")"
      ],
      "metadata": {
        "id": "ps2jEKj1z7JI",
        "outputId": "ed5c28d3-f723-44af-ce9b-e45109d0e9c9",
        "colab": {
          "base_uri": "https://localhost:8080/"
        }
      },
      "execution_count": 6,
      "outputs": [
        {
          "output_type": "error",
          "ename": "AttributeError",
          "evalue": "module 'requests' has no attribute 'posts'",
          "traceback": [
            "\u001b[0;31m---------------------------------------------------------------------------\u001b[0m",
            "\u001b[0;31mAttributeError\u001b[0m                            Traceback (most recent call last)",
            "\u001b[0;32m/tmp/ipython-input-6-2532034103.py\u001b[0m in \u001b[0;36m<cell line: 0>\u001b[0;34m()\u001b[0m\n\u001b[0;32m----> 1\u001b[0;31m \u001b[0msend_telegram\u001b[0m\u001b[0;34m(\u001b[0m\u001b[0;34m\"Ceci n'est pas un bot.\"\u001b[0m\u001b[0;34m)\u001b[0m\u001b[0;34m\u001b[0m\u001b[0;34m\u001b[0m\u001b[0m\n\u001b[0m",
            "\u001b[0;32m/tmp/ipython-input-5-1604218459.py\u001b[0m in \u001b[0;36msend_telegram\u001b[0;34m(message)\u001b[0m\n\u001b[1;32m     12\u001b[0m   }\n\u001b[1;32m     13\u001b[0m \u001b[0;34m\u001b[0m\u001b[0m\n\u001b[0;32m---> 14\u001b[0;31m   \u001b[0mresponse\u001b[0m \u001b[0;34m=\u001b[0m \u001b[0mrequests\u001b[0m\u001b[0;34m.\u001b[0m\u001b[0mposts\u001b[0m\u001b[0;34m(\u001b[0m\u001b[0murl\u001b[0m\u001b[0;34m,\u001b[0m \u001b[0mdata\u001b[0m\u001b[0;34m=\u001b[0m \u001b[0mpayload\u001b[0m\u001b[0;34m)\u001b[0m\u001b[0;34m\u001b[0m\u001b[0;34m\u001b[0m\u001b[0m\n\u001b[0m\u001b[1;32m     15\u001b[0m \u001b[0;34m\u001b[0m\u001b[0m\n\u001b[1;32m     16\u001b[0m   \u001b[0;32mif\u001b[0m \u001b[0mresponse\u001b[0m\u001b[0;34m.\u001b[0m\u001b[0mstatus_code\u001b[0m \u001b[0;34m==\u001b[0m \u001b[0;36m200\u001b[0m\u001b[0;34m:\u001b[0m\u001b[0;34m\u001b[0m\u001b[0;34m\u001b[0m\u001b[0m\n",
            "\u001b[0;31mAttributeError\u001b[0m: module 'requests' has no attribute 'posts'"
          ]
        }
      ]
    }
  ],
  "metadata": {
    "colab": {
      "provenance": []
    },
    "language_info": {
      "name": "python"
    },
    "kernelspec": {
      "name": "python3",
      "display_name": "Python 3"
    }
  },
  "nbformat": 4,
  "nbformat_minor": 0
}