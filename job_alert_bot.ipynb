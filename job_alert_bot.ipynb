{
  "cells": [
    {
      "cell_type": "code",
      "source": [
        "!wget https://raw.githubusercontent.com/sisyphusinthegit/job-bot/main/config.json\n",
        "\n",
        "import json\n",
        "\n",
        "def load_config(path=\"config.json\"):\n",
        "    with open(path, \"r\") as f:\n",
        "        return json.load(f)\n",
        "\n",
        "config = load_config()\n",
        "print(config[\"telegram\"][\"bot_token\"])  # test"
      ],
      "metadata": {
        "colab": {
          "base_uri": "https://localhost:8080/"
        },
        "id": "kT_TA5ml9AT8",
        "outputId": "22d5bb4c-5123-42fb-dd6e-cf93da2b3478"
      },
      "execution_count": 8,
      "outputs": [
        {
          "output_type": "stream",
          "name": "stdout",
          "text": [
            "--2025-07-07 07:45:08--  https://raw.githubusercontent.com/sisyphusinthegit/job-bot/main/config.json\n",
            "Resolving raw.githubusercontent.com (raw.githubusercontent.com)... 185.199.108.133, 185.199.109.133, 185.199.110.133, ...\n",
            "Connecting to raw.githubusercontent.com (raw.githubusercontent.com)|185.199.108.133|:443... connected.\n",
            "HTTP request sent, awaiting response... 200 OK\n",
            "Length: 671 [text/plain]\n",
            "Saving to: ‘config.json.3’\n",
            "\n",
            "\rconfig.json.3         0%[                    ]       0  --.-KB/s               \rconfig.json.3       100%[===================>]     671  --.-KB/s    in 0s      \n",
            "\n",
            "2025-07-07 07:45:08 (43.0 MB/s) - ‘config.json.3’ saved [671/671]\n",
            "\n",
            "7616042675:AAGf10TxZoIBLTUoBu4SecHl-aMuVFU5JiI\n"
          ]
        }
      ]
    },
    {
      "cell_type": "code",
      "source": [
        "import smtplib\n",
        "from email.mime.text import MIMEText\n",
        "from email.mime.multipart import MIMEMultipart\n",
        "\n",
        "def load_config(path=\"config.json\"):\n",
        "    with open(path, \"r\") as f:\n",
        "        return json.load(f)\n",
        "\n",
        "def send_email(subject, body):\n",
        "    config = load_config()\n",
        "    email_conf = config[\"email\"]\n",
        "\n",
        "    msg = MIMEMultipart()\n",
        "    msg[\"From\"] = email_conf[\"sender_email\"]\n",
        "    msg[\"To\"] = email_conf[\"receiver_email\"]\n",
        "    msg[\"Subject\"] = subject\n",
        "    msg.attach(MIMEText(body, \"plain\"))\n",
        "\n",
        "    with smtplib.SMTP(email_conf[\"smtp_server\"], email_conf[\"smtp_port\"]) as server:\n",
        "        server.starttls()\n",
        "        server.login(email_conf[\"sender_email\"], email_conf[\"sender_password\"])\n",
        "        server.send_message(msg)\n",
        "\n",
        "    print(\"Email is sent successfully.\")"
      ],
      "metadata": {
        "id": "Zli6UuMICyQY"
      },
      "execution_count": 9,
      "outputs": []
    },
    {
      "cell_type": "code",
      "source": [
        "send_email(\"Job Alert Test\", \"Ceci n'est pas un bot.\")"
      ],
      "metadata": {
        "id": "t7soMI0Vy_c-",
        "outputId": "e101cfc4-1311-43d7-a846-6e003fa27ee2",
        "colab": {
          "base_uri": "https://localhost:8080/"
        }
      },
      "execution_count": 10,
      "outputs": [
        {
          "output_type": "stream",
          "name": "stdout",
          "text": [
            "Email is sent successfully.\n"
          ]
        }
      ]
    },
    {
      "cell_type": "code",
      "source": [
        "import requests\n",
        "\n",
        "def send_telegram(message):\n",
        "  config = load_config()\n",
        "  token = config[\"telegram\"][\"bot_token\"]\n",
        "  chat_id = config[\"telegram\"][\"chat_id\"]\n",
        "\n",
        "  url = f\"https://api.telegram.org/bot{token}/sendMessage\"\n",
        "  payload = {\n",
        "      \"chat_id\" : chat_id,\n",
        "      \"text\": message\n",
        "  }\n",
        "\n",
        "  response = requests.post(url, data= payload)\n",
        "\n",
        "  if response.status_code == 200:\n",
        "    print(\"Message is sent successfully.\")\n",
        "  else:\n",
        "    print(f\"Error: {response.status_code} - {response.text}\")\n"
      ],
      "metadata": {
        "id": "PjKunFOyz8PO"
      },
      "execution_count": 13,
      "outputs": []
    },
    {
      "cell_type": "code",
      "source": [
        "send_telegram(\"Ceci n'est pas un bot.\")"
      ],
      "metadata": {
        "id": "ps2jEKj1z7JI",
        "outputId": "028b77e9-2486-4cdc-ec26-61c25ce07b36",
        "colab": {
          "base_uri": "https://localhost:8080/"
        }
      },
      "execution_count": 14,
      "outputs": [
        {
          "output_type": "stream",
          "name": "stdout",
          "text": [
            "Message is sent successfully.\n"
          ]
        }
      ]
    },
    {
      "cell_type": "code",
      "source": [
        "def notification(subject, message):\n",
        "  try:\n",
        "    send_email(subject, message)\n",
        "  except Exception as excep:\n",
        "    print(f\"Email Error: {excep}\")\n",
        "\n",
        "  try:\n",
        "    send_telegram(message)\n",
        "  except Exception as excep:\n",
        "    print(f\"Telegram Error: {excep}\")"
      ],
      "metadata": {
        "id": "o8VYBEiO3QeD"
      },
      "execution_count": 16,
      "outputs": []
    },
    {
      "cell_type": "code",
      "source": [
        "notification(\"New job post\", \"New job arrived\")"
      ],
      "metadata": {
        "id": "izbOqQ8r3xPq",
        "outputId": "19bf58e4-0eb8-4b2a-87ea-96692bb63f10",
        "colab": {
          "base_uri": "https://localhost:8080/"
        }
      },
      "execution_count": 19,
      "outputs": [
        {
          "output_type": "stream",
          "name": "stdout",
          "text": [
            "Email is sent successfully.\n",
            "Message is sent successfully.\n"
          ]
        }
      ]
    }
  ],
  "metadata": {
    "colab": {
      "provenance": []
    },
    "language_info": {
      "name": "python"
    },
    "kernelspec": {
      "name": "python3",
      "display_name": "Python 3"
    }
  },
  "nbformat": 4,
  "nbformat_minor": 0
}